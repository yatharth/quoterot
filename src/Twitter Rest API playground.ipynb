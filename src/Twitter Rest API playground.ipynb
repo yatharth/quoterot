{
 "cells": [
  {
   "cell_type": "markdown",
   "id": "thermal-darkness",
   "metadata": {},
   "source": [
    "To use this notebook, you can install [`iJavascript`](https://github.com/n-riesco/ijavascript)."
   ]
  },
  {
   "cell_type": "code",
   "execution_count": null,
   "id": "vocal-calcium",
   "metadata": {},
   "outputs": [],
   "source": [
    "AUTH_TOKEN = 'AAAAAAAAAAAAAAAAAAAAAJv13AAAAAAAr%2FT44AfHGR071THYE%2FC8pBwpNn8%3Dnp0S2OPJWEpTAaXa9A3Y2WC3BH6VMZf1WYVRI0GCMhgtKNGfDs';\n",
    "TwitterApi = require('twitter-api-v2').default\n",
    "client = new TwitterApi(AUTH_TOKEN)"
   ]
  },
  {
   "cell_type": "code",
   "execution_count": null,
   "id": "polished-crime",
   "metadata": {},
   "outputs": [],
   "source": [
    "quoterot = '1460777590373769226'\n",
    "snorlax = '1423685171430178816'\n",
    "phallusoraptors = '1310573765319946240'\n",
    "altyatharth = '1340667684363628545'\n",
    "askyatharth = '193553265'"
   ]
  },
  {
   "cell_type": "markdown",
   "id": "altered-matrix",
   "metadata": {},
   "source": [
    "## v1 API"
   ]
  },
  {
   "cell_type": "code",
   "execution_count": 4,
   "id": "fourth-iceland",
   "metadata": {},
   "outputs": [],
   "source": [
    "function getRateLimitStatus(client, endpoint) {\n",
    "    const lastStatus = client.v1.getLastRateLimitStatus(endpoint);\n",
    "    return {\n",
    "        'known': !!lastStatus,\n",
    "        'obsolete': client.v1.isRateLimitStatusObsolete(endpoint),\n",
    "        'hit': client.v1.hasHitRateLimit(endpoint),\n",
    "        ...lastStatus,\n",
    "    }\n",
    "}"
   ]
  },
  {
   "cell_type": "code",
   "execution_count": 5,
   "id": "instrumental-testimony",
   "metadata": {},
   "outputs": [],
   "source": [
    "async function getFollowers(client, username) {\n",
    "    response = await client.v1.get('followers/ids.json', {'screen_name': username, 'stringify_ids': true})\n",
    "    return response['ids']\n",
    "}"
   ]
  },
  {
   "cell_type": "code",
   "execution_count": null,
   "id": "identified-hygiene",
   "metadata": {},
   "outputs": [],
   "source": [
    "followerIds = await getFollowers(client, 'quoterot')"
   ]
  },
  {
   "cell_type": "code",
   "execution_count": null,
   "id": "pressing-company",
   "metadata": {},
   "outputs": [],
   "source": []
  },
  {
   "cell_type": "code",
   "execution_count": null,
   "id": "defensive-compound",
   "metadata": {},
   "outputs": [],
   "source": [
    "tweet = await client.v1.singleTweet('1461964744064057352')\n",
    "tweet.is_quote_status\n",
    "tweet.quoted_status_id_str\n",
    "tweet.quoted_status_permalink.expanded"
   ]
  },
  {
   "cell_type": "code",
   "execution_count": null,
   "id": "conservative-shelf",
   "metadata": {},
   "outputs": [],
   "source": [
    "userTimeline = await client.v1.userTimeline(altyatharth)\n",
    "tweets = userTimeline.tweets\n",
    "oldest_tweet = tweets.at(-1)\n",
    "oldest_tweet_date = new Date(oldest_tweet['created_at'])\n",
    "quote_tweets = tweets.filter((tweet) => tweet.is_quote_status)\n",
    "quoted_tweets = quote_tweets.map((tweet) => tweet.quoted_status_id_str)\n",
    "quoted_tweets = quote_tweets.map((tweet) => tweet.quoted_status_permalink.expanded)"
   ]
  },
  {
   "cell_type": "markdown",
   "id": "metric-knock",
   "metadata": {},
   "source": [
    "## v2 API"
   ]
  },
  {
   "cell_type": "code",
   "execution_count": null,
   "id": "capital-flavor",
   "metadata": {},
   "outputs": [],
   "source": [
    "TwitterApi = require('twitter-api-v2').default\n",
    "axios = require('axios')\n",
    "\n",
    "AUTH_TOKEN = 'AAAAAAAAAAAAAAAAAAAAAMj2VwEAAAAAxhAqlNP8HzK8uzmSmvAO5LhzNcA%3D8iuwR8sYY3jcfeGIlJ8dThKv7zoU0DhBqQArw3elaTD2mF73Ko'\n",
    "client = new TwitterApi(AUTH_TOKEN)"
   ]
  },
  {
   "cell_type": "code",
   "execution_count": null,
   "id": "surgical-sudan",
   "metadata": {},
   "outputs": [],
   "source": [
    "quoterot = '1460777590373769226'\n",
    "snorlax = '1423685171430178816'\n",
    "phallusoraptors = '1310573765319946240'\n",
    "altyatharth = '1340667684363628545'\n",
    "askyatharth = '193553265'"
   ]
  },
  {
   "cell_type": "code",
   "execution_count": null,
   "id": "domestic-organization",
   "metadata": {},
   "outputs": [],
   "source": []
  },
  {
   "cell_type": "code",
   "execution_count": null,
   "id": "built-preview",
   "metadata": {},
   "outputs": [],
   "source": [
    "quoterot = (await client.v2.userByUsername('quoterot')).data.id"
   ]
  },
  {
   "cell_type": "code",
   "execution_count": null,
   "id": "automotive-oasis",
   "metadata": {},
   "outputs": [],
   "source": []
  },
  {
   "cell_type": "code",
   "execution_count": null,
   "id": "undefined-compromise",
   "metadata": {},
   "outputs": [],
   "source": []
  },
  {
   "cell_type": "code",
   "execution_count": 9,
   "id": "ruled-moscow",
   "metadata": {},
   "outputs": [],
   "source": [
    "function getRateLimitStatus(client, endpoint) {\n",
    "    const lastStatus = client.v2.getLastRateLimitStatus(endpoint);\n",
    "    return {\n",
    "        'known': !!lastStatus,\n",
    "        'obsolete': client.v2.isRateLimitStatusObsolete(endpoint),\n",
    "        'hit': client.v2.hasHitRateLimit(endpoint),\n",
    "        ...lastStatus,\n",
    "    }\n",
    "}"
   ]
  },
  {
   "cell_type": "code",
   "execution_count": null,
   "id": "loving-scenario",
   "metadata": {},
   "outputs": [],
   "source": [
    "getRateLimitStatus(client, 'statuses/user_timeline.json')"
   ]
  },
  {
   "cell_type": "code",
   "execution_count": null,
   "id": "consistent-duplicate",
   "metadata": {},
   "outputs": [],
   "source": []
  },
  {
   "cell_type": "code",
   "execution_count": 10,
   "id": "better-rebel",
   "metadata": {},
   "outputs": [],
   "source": [
    "async function getTweetsByIds(ids) {\n",
    "    options = {'tweet.fields': 'in_reply_to_user_id,referenced_tweets', 'expansions': 'in_reply_to_user_id,referenced_tweets.id,referenced_tweets.id.author_id'}\n",
    "    return await client.v2.tweets(ids, options)\n",
    "}\n",
    "\n",
    "// await client.v2.get('tweets/:id', options, { params: { id: '1461964695556943879' }, fullResponse: true })\n",
    "\n",
    "async function getTweetByUrl(url) {\n",
    "    tweet_id = url.split('/').at(-1).split('?')[0]\n",
    "    return getTweetsByIds([tweet_id])\n",
    "}"
   ]
  },
  {
   "cell_type": "code",
   "execution_count": null,
   "id": "duplicate-enforcement",
   "metadata": {},
   "outputs": [],
   "source": [
    "foo3 = await getTweetByUrl('https://twitter.com/phallusoraptors/status/1461964695556943879?s=20')"
   ]
  },
  {
   "cell_type": "code",
   "execution_count": null,
   "id": "derived-origin",
   "metadata": {},
   "outputs": [],
   "source": [
    "last_word = foo3.data[0].text.trim().split(/\\s+/).at(-1)\n",
    "last_word.startsWith('https://t.co/')"
   ]
  },
  {
   "cell_type": "code",
   "execution_count": null,
   "id": "further-disabled",
   "metadata": {},
   "outputs": [],
   "source": [
    "response = await axios.get(last_word, {maxRedirects: 0, validateStatus: (status) => status == 301})\n",
    "url = response.headers.location\n",
    "match = url.match(new RegExp('^https://twitter.com/(?<username>.+?)/status/(?<tweet_id>\\\\d+)$'))"
   ]
  },
  {
   "cell_type": "code",
   "execution_count": null,
   "id": "atmospheric-scholar",
   "metadata": {},
   "outputs": [],
   "source": [
    "if (!match)"
   ]
  },
  {
   "cell_type": "code",
   "execution_count": null,
   "id": "unlike-effects",
   "metadata": {},
   "outputs": [],
   "source": [
    "[match.groups.username, match.groups.tweet_id]"
   ]
  },
  {
   "cell_type": "code",
   "execution_count": null,
   "id": "likely-policy",
   "metadata": {},
   "outputs": [],
   "source": []
  },
  {
   "cell_type": "code",
   "execution_count": null,
   "id": "ordinary-brown",
   "metadata": {},
   "outputs": [],
   "source": [
    "// https://developer.twitter.com/en/docs/twitter-api/tweets/search/api-reference/get-tweets-search-recent\n",
    "// since_id and start_time\n",
    "// kinda useful, if wanna start processing from where left off last time?"
   ]
  },
  {
   "cell_type": "code",
   "execution_count": null,
   "id": "assigned-thomson",
   "metadata": {},
   "outputs": [],
   "source": [
    "{ subDays, startOfToday, isBefore } = require('date-fns')"
   ]
  },
  {
   "cell_type": "code",
   "execution_count": null,
   "id": "crude-cedar",
   "metadata": {},
   "outputs": [],
   "source": [
    "start = subDays(startOfToday(), 2)\n",
    "\n",
    "timeline = await client.v2.userTimeline(askyatharth, {'max_results': 100, 'tweet.fields': 'created_at', start_time: start.toISOString()})"
   ]
  },
  {
   "cell_type": "code",
   "execution_count": null,
   "id": "funky-middle",
   "metadata": {},
   "outputs": [],
   "source": [
    "while (timeline.meta.next_token) {\n",
    "    await timeline2.fetchNext()\n",
    "}"
   ]
  },
  {
   "cell_type": "code",
   "execution_count": null,
   "id": "naval-foundation",
   "metadata": {},
   "outputs": [],
   "source": []
  },
  {
   "cell_type": "code",
   "execution_count": null,
   "id": "stuffed-suspension",
   "metadata": {},
   "outputs": [],
   "source": []
  },
  {
   "cell_type": "code",
   "execution_count": null,
   "id": "emerging-scheduling",
   "metadata": {},
   "outputs": [],
   "source": []
  },
  {
   "cell_type": "code",
   "execution_count": null,
   "id": "several-latvia",
   "metadata": {},
   "outputs": [],
   "source": [
    "// TODO: handle rate limit error?"
   ]
  },
  {
   "cell_type": "code",
   "execution_count": null,
   "id": "olympic-static",
   "metadata": {},
   "outputs": [],
   "source": [
    "// last_date = new Date(timeline.tweets.at(-1).created_at) \n",
    "// isBefore(last_date, startOfYesterday) || timeline3._realData.meta.next_token"
   ]
  },
  {
   "cell_type": "code",
   "execution_count": null,
   "id": "czech-indication",
   "metadata": {},
   "outputs": [],
   "source": []
  },
  {
   "cell_type": "markdown",
   "id": "circular-marking",
   "metadata": {},
   "source": [
    "## TODOs"
   ]
  },
  {
   "cell_type": "code",
   "execution_count": 3,
   "id": "dimensional-holder",
   "metadata": {},
   "outputs": [],
   "source": [
    "// TODO: Protecter user? Or other error?\n",
    "// TODO: How to only process until two days ago"
   ]
  },
  {
   "cell_type": "code",
   "execution_count": null,
   "id": "postal-april",
   "metadata": {},
   "outputs": [],
   "source": [
    "// TODO: Error handling! catch\n",
    "\n",
    "// Uncaught ApiResponseError: Request failed with code 401\n",
    "//     at RequestHandlerHelper.createResponseError (/Users/yatharth/Documents/misc/websites/quoterot/quoterot-cdk/node_modules/twitter-api-v2/dist/client-mixins/request-handler.helper.js:70:16)\n",
    "//     at RequestHandlerHelper.onResponseEndHandler (/Users/yatharth/Documents/misc/websites/quoterot/quoterot-cdk/node_modules/twitter-api-v2/dist/client-mixins/request-handler.helper.js:110:25)\n",
    "//     at IncomingMessage.emit (node:events:402:35)\n",
    "//     at IncomingMessage.emit (node:domain:537:15)\n",
    "//     at endReadableNT (node:internal/streams/readable:1340:12)\n",
    "//     at processTicksAndRejections (node:internal/process/task_queues:83:21)\n",
    "\n",
    "// {\n",
    "//   error: true,\n",
    "//   type: 'response',\n",
    "//   code: 401,\n",
    "//   headers: {\n",
    "//     date: 'Sat, 20 Nov 2021 05:55:13 GMT',\n",
    "//     pragma: 'no-cache',\n",
    "//     server: 'tsa_a',\n",
    "//     status: '401 Unauthorized',\n",
    "//     expires: 'Tue, 31 Mar 1981 05:00:00 GMT',\n",
    "//     'set-cookie': [\n",
    "//       'guest_id_marketing=v1%3A163738771384305552; Max-Age=63072000; Expires=Mon, 20 Nov 2023 05:55:13 GMT; Path=/; Domain=.twitter.com; Secure; SameSite=None',\n",
    "//       'guest_id_ads=v1%3A163738771384305552; Max-Age=63072000; Expires=Mon, 20 Nov 2023 05:55:13 GMT; Path=/; Domain=.twitter.com; Secure; SameSite=None',\n",
    "//       'personalization_id=\"v1_C2cK9nZ2gLbLwYVNaSShcw==\"; Max-Age=63072000; Expires=Mon, 20 Nov 2023 05:55:13 GMT; Path=/; Domain=.twitter.com; Secure; SameSite=None',\n",
    "//       'guest_id=v1%3A163738771384305552; Max-Age=63072000; Expires=Mon, 20 Nov 2023 05:55:13 GMT; Path=/; Domain=.twitter.com; Secure; SameSite=None'\n",
    "//     ],\n",
    "//     'content-type': 'application/json;charset=utf-8',\n",
    "//     'cache-control': 'no-cache, no-store, must-revalidate, pre-check=0, post-check=0',\n",
    "//     'last-modified': 'Sat, 20 Nov 2021 05:55:13 GMT',\n",
    "//     'x-transaction': '88fec3f5ad7947dc',\n",
    "//     'content-length': '75',\n",
    "//     'x-access-level': 'read',\n",
    "//     'x-frame-options': 'SAMEORIGIN',\n",
    "//     'www-authenticate': 'OAuth realm=\"https://api.twitter.com\"',\n",
    "//     'x-xss-protection': '0',\n",
    "//     'x-rate-limit-limit': '1500',\n",
    "//     'x-rate-limit-reset': '1637388613',\n",
    "//     'content-disposition': 'attachment; filename=json.json',\n",
    "//     'x-app-rate-limit-limit': '100000',\n",
    "//     'x-app-rate-limit-reset': '1637458750',\n",
    "//     'x-content-type-options': 'nosniff',\n",
    "//     'x-rate-limit-remaining': '1499',\n",
    "//     'x-twitter-response-tags': 'BouncerCompliant',\n",
    "//     'strict-transport-security': 'max-age=631138519',\n",
    "//     'x-app-rate-limit-remaining': '99991',\n",
    "//     'x-response-time': '16',\n",
    "//     'x-connection-hash': 'd3bd375e979a2b338b93ecec5a12e609d5374f49353d189f069c38fe6c96d538',\n",
    "//     connection: 'close'\n",
    "//   },\n",
    "//   rateLimit: { limit: 1500, remaining: 1499, reset: 1637388613 },\n",
    "//   data: {\n",
    "//     request: '/1.1/statuses/user_timeline.json',\n",
    "//     error: 'Not authorized.'\n",
    "//   }\n",
    "// }"
   ]
  },
  {
   "cell_type": "code",
   "execution_count": null,
   "id": "suburban-cable",
   "metadata": {},
   "outputs": [],
   "source": [
    "import { ApiResponseError } from 'twitter-api-v2';\n",
    "\n",
    "try {\n",
    "  // Get a single tweet\n",
    "  await client.v1.tweet('20');\n",
    "} catch (error) {\n",
    "  if (error instanceof ApiResponseError && error.rateLimitError && error.rateLimit) {\n",
    "    console.log(`You just hit the rate limit! Limit for this endpoint is ${error.rateLimit.limit} requests!`);\n",
    "    console.log(`Request counter will reset at timestamp ${error.rateLimit.reset}.`);\n",
    "  }\n",
    "}"
   ]
  },
  {
   "cell_type": "code",
   "execution_count": null,
   "id": "interracial-facing",
   "metadata": {},
   "outputs": [],
   "source": []
  }
 ],
 "metadata": {
  "kernelspec": {
   "display_name": "JavaScript (Node.js)",
   "language": "javascript",
   "name": "javascript"
  },
  "language_info": {
   "file_extension": ".js",
   "mimetype": "application/javascript",
   "name": "javascript",
   "version": "17.0.1"
  }
 },
 "nbformat": 4,
 "nbformat_minor": 5
}
