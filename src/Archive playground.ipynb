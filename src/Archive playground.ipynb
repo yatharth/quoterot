{
 "cells": [
  {
   "cell_type": "code",
   "execution_count": 1,
   "id": "anonymous-berry",
   "metadata": {},
   "outputs": [],
   "source": [
    "\n",
    "function getSecretsPrefixedWith(prefix: string) {\n",
    "    if (!prefix) {\n",
    "        throw \"Prefix for secrets was empty. This would pull ALL environment variables from your system, which might be dangerous.\"\n",
    "    }\n",
    "\n",
    "    const envVars = Object.keys(process.env)\n",
    "    return envVars.filter(envVar => envVar.startsWith(prefix))\n",
    "}"
   ]
  },
  {
   "cell_type": "code",
   "execution_count": null,
   "id": "abandoned-incidence",
   "metadata": {},
   "outputs": [],
   "source": []
  },
  {
   "cell_type": "markdown",
   "id": "absolute-diversity",
   "metadata": {},
   "source": [
    "# My Save Page Now wrapper"
   ]
  },
  {
   "cell_type": "code",
   "execution_count": null,
   "id": "meaningful-austria",
   "metadata": {},
   "outputs": [],
   "source": [
    "process.exit(0)"
   ]
  },
  {
   "cell_type": "code",
   "execution_count": 1,
   "id": "cardiac-census",
   "metadata": {},
   "outputs": [],
   "source": [
    "import SavePageNow from './helpers/save-page-now'"
   ]
  },
  {
   "cell_type": "code",
   "execution_count": 2,
   "id": "suited-clone",
   "metadata": {},
   "outputs": [],
   "source": [
    "const spn = await SavePageNow.create({\n",
    "    username: 'yatharth999@gmail.com',\n",
    "    password: 'rkybffk5m6',\n",
    "})"
   ]
  },
  {
   "cell_type": "code",
   "execution_count": 29,
   "id": "retained-adult",
   "metadata": {},
   "outputs": [
    {
     "name": "stdout",
     "output_type": "stream",
     "text": [
      "{\n",
      "  available: \u001b[33m6\u001b[39m,\n",
      "  daily_captures: \u001b[33m4\u001b[39m,\n",
      "  daily_captures_limit: \u001b[33m100000\u001b[39m,\n",
      "  processing: \u001b[33m0\u001b[39m\n",
      "}\n"
     ]
    }
   ],
   "source": [
    "await spn.fetchUserStatus()"
   ]
  },
  {
   "cell_type": "code",
   "execution_count": 35,
   "id": "injured-prospect",
   "metadata": {},
   "outputs": [],
   "source": [
    "const url = 'https://twitter.com/quoterot/status/1474769364276633602?q=19'"
   ]
  },
  {
   "cell_type": "code",
   "execution_count": 38,
   "id": "varied-jumping",
   "metadata": {},
   "outputs": [],
   "source": [
    "const jobId = await spn.requestSave(url)"
   ]
  },
  {
   "cell_type": "code",
   "execution_count": 39,
   "id": "friendly-limit",
   "metadata": {},
   "outputs": [
    {
     "name": "stdout",
     "output_type": "stream",
     "text": [
      "{\n",
      "  counters: { embeds: \u001b[33m2\u001b[39m, outlinks: \u001b[33m6\u001b[39m },\n",
      "  status: \u001b[32m'success'\u001b[39m,\n",
      "  resources: [\n",
      "    \u001b[32m'https://twitter.com/quoterot/status/1474769364276633602?q=19'\u001b[39m,\n",
      "    \u001b[32m'https://abs.twimg.com/sticky/default_profile_images/default_profile_400x400.png'\u001b[39m\n",
      "  ],\n",
      "  first_archive: \u001b[33mtrue\u001b[39m,\n",
      "  job_id: \u001b[32m'spn2-0b64328f8c520adcd5349986a50edabd9d62f9c3-bf87c6c3'\u001b[39m,\n",
      "  original_url: \u001b[32m'https://twitter.com/quoterot/status/1474769364276633602?q=19'\u001b[39m,\n",
      "  duration_sec: \u001b[33m4.605\u001b[39m,\n",
      "  outlinks: [\n",
      "    \u001b[32m'https://twitter.com/AskYatharth'\u001b[39m,\n",
      "    \u001b[32m'https://twitter.com/quoterot/status/1474769364276633602/retweets/with_comments'\u001b[39m,\n",
      "    \u001b[32m'https://twitter.com/quoterot/status/1474769364276633602'\u001b[39m,\n",
      "    \u001b[32m'https://twitter.com/quoterot'\u001b[39m,\n",
      "    \u001b[32m'https://twitter.com/'\u001b[39m,\n",
      "    \u001b[32m'https://help.twitter.com/using-twitter/how-to-tweet#source-labels'\u001b[39m\n",
      "  ],\n",
      "  timestamp: \u001b[32m'20211228205415'\u001b[39m\n",
      "}\n"
     ]
    },
    {
     "name": "stderr",
     "output_type": "stream",
     "text": [
      "UncaughtException: Error: Unexpected pending rebuildTimer\n",
      "    at Object.sys.setTimeout (/usr/local/lib/node_modules/\u001b[4mtslab\u001b[24m/dist/converter.js:83:19)\n",
      "    at Object.scheduleInvalidateResolutionsOfFailedLookupLocations (/usr/local/lib/node_modules/\u001b[4mtslab\u001b[24m/node_modules/\u001b[4m@tslab\u001b[24m/typescript-for-tslab/lib/typescript.js:111398:61)\n",
      "    at scheduleInvalidateResolutionOfFailedLookupLocation (/usr/local/lib/node_modules/\u001b[4mtslab\u001b[24m/node_modules/\u001b[4m@tslab\u001b[24m/typescript-for-tslab/lib/typescript.js:110059:28)\n",
      "    at /usr/local/lib/node_modules/\u001b[4mtslab\u001b[24m/node_modules/\u001b[4m@tslab\u001b[24m/typescript-for-tslab/lib/typescript.js:109959:17\n",
      "    at /usr/local/lib/node_modules/\u001b[4mtslab\u001b[24m/node_modules/\u001b[4m@tslab\u001b[24m/typescript-for-tslab/lib/typescript.js:6961:17\n",
      "    at FSWatcher.callbackChangingToMissingFileSystemEntry (/usr/local/lib/node_modules/\u001b[4mtslab\u001b[24m/node_modules/\u001b[4m@tslab\u001b[24m/typescript-for-tslab/lib/typescript.js:7478:25)\n",
      "\u001b[90m    at FSWatcher.emit (node:events:390:28)\u001b[39m\n",
      "\u001b[90m    at FSEvent.FSWatcher._handle.onchange (node:internal/fs/watchers:212:12)\u001b[39m\n",
      "UncaughtException: Error: Unexpected pending rebuildTimer\n",
      "    at Object.sys.setTimeout (/usr/local/lib/node_modules/\u001b[4mtslab\u001b[24m/dist/converter.js:83:19)\n",
      "    at Object.scheduleInvalidateResolutionsOfFailedLookupLocations (/usr/local/lib/node_modules/\u001b[4mtslab\u001b[24m/node_modules/\u001b[4m@tslab\u001b[24m/typescript-for-tslab/lib/typescript.js:111398:61)\n",
      "    at scheduleInvalidateResolutionOfFailedLookupLocation (/usr/local/lib/node_modules/\u001b[4mtslab\u001b[24m/node_modules/\u001b[4m@tslab\u001b[24m/typescript-for-tslab/lib/typescript.js:110059:28)\n",
      "    at /usr/local/lib/node_modules/\u001b[4mtslab\u001b[24m/node_modules/\u001b[4m@tslab\u001b[24m/typescript-for-tslab/lib/typescript.js:109959:17\n",
      "    at /usr/local/lib/node_modules/\u001b[4mtslab\u001b[24m/node_modules/\u001b[4m@tslab\u001b[24m/typescript-for-tslab/lib/typescript.js:6961:17\n",
      "    at FSWatcher.callbackChangingToMissingFileSystemEntry (/usr/local/lib/node_modules/\u001b[4mtslab\u001b[24m/node_modules/\u001b[4m@tslab\u001b[24m/typescript-for-tslab/lib/typescript.js:7478:25)\n",
      "\u001b[90m    at FSWatcher.emit (node:events:390:28)\u001b[39m\n",
      "\u001b[90m    at FSEvent.FSWatcher._handle.onchange (node:internal/fs/watchers:212:12)\u001b[39m\n",
      "UncaughtException: Error: Unexpected pending rebuildTimer\n",
      "    at Object.sys.setTimeout (/usr/local/lib/node_modules/\u001b[4mtslab\u001b[24m/dist/converter.js:83:19)\n",
      "    at Object.scheduleInvalidateResolutionsOfFailedLookupLocations (/usr/local/lib/node_modules/\u001b[4mtslab\u001b[24m/node_modules/\u001b[4m@tslab\u001b[24m/typescript-for-tslab/lib/typescript.js:111398:61)\n",
      "    at scheduleInvalidateResolutionOfFailedLookupLocation (/usr/local/lib/node_modules/\u001b[4mtslab\u001b[24m/node_modules/\u001b[4m@tslab\u001b[24m/typescript-for-tslab/lib/typescript.js:110059:28)\n",
      "    at /usr/local/lib/node_modules/\u001b[4mtslab\u001b[24m/node_modules/\u001b[4m@tslab\u001b[24m/typescript-for-tslab/lib/typescript.js:109959:17\n",
      "    at /usr/local/lib/node_modules/\u001b[4mtslab\u001b[24m/node_modules/\u001b[4m@tslab\u001b[24m/typescript-for-tslab/lib/typescript.js:6961:17\n",
      "    at FSWatcher.callbackChangingToMissingFileSystemEntry (/usr/local/lib/node_modules/\u001b[4mtslab\u001b[24m/node_modules/\u001b[4m@tslab\u001b[24m/typescript-for-tslab/lib/typescript.js:7478:25)\n",
      "\u001b[90m    at FSWatcher.emit (node:events:390:28)\u001b[39m\n",
      "\u001b[90m    at FSEvent.FSWatcher._handle.onchange (node:internal/fs/watchers:212:12)\u001b[39m\n",
      "UncaughtException: Error: Unexpected pending rebuildTimer\n",
      "    at Object.sys.setTimeout (/usr/local/lib/node_modules/\u001b[4mtslab\u001b[24m/dist/converter.js:83:19)\n",
      "    at Object.scheduleInvalidateResolutionsOfFailedLookupLocations (/usr/local/lib/node_modules/\u001b[4mtslab\u001b[24m/node_modules/\u001b[4m@tslab\u001b[24m/typescript-for-tslab/lib/typescript.js:111398:61)\n",
      "    at scheduleInvalidateResolutionOfFailedLookupLocation (/usr/local/lib/node_modules/\u001b[4mtslab\u001b[24m/node_modules/\u001b[4m@tslab\u001b[24m/typescript-for-tslab/lib/typescript.js:110059:28)\n",
      "    at /usr/local/lib/node_modules/\u001b[4mtslab\u001b[24m/node_modules/\u001b[4m@tslab\u001b[24m/typescript-for-tslab/lib/typescript.js:109959:17\n",
      "    at /usr/local/lib/node_modules/\u001b[4mtslab\u001b[24m/node_modules/\u001b[4m@tslab\u001b[24m/typescript-for-tslab/lib/typescript.js:6961:17\n",
      "    at FSWatcher.callbackChangingToMissingFileSystemEntry (/usr/local/lib/node_modules/\u001b[4mtslab\u001b[24m/node_modules/\u001b[4m@tslab\u001b[24m/typescript-for-tslab/lib/typescript.js:7478:25)\n",
      "\u001b[90m    at FSWatcher.emit (node:events:390:28)\u001b[39m\n",
      "\u001b[90m    at FSEvent.FSWatcher._handle.onchange (node:internal/fs/watchers:212:12)\u001b[39m\n",
      "UncaughtException: Error: Unexpected pending rebuildTimer\n",
      "    at Object.sys.setTimeout (/usr/local/lib/node_modules/\u001b[4mtslab\u001b[24m/dist/converter.js:83:19)\n",
      "    at Object.scheduleInvalidateResolutionsOfFailedLookupLocations (/usr/local/lib/node_modules/\u001b[4mtslab\u001b[24m/node_modules/\u001b[4m@tslab\u001b[24m/typescript-for-tslab/lib/typescript.js:111398:61)\n",
      "    at scheduleInvalidateResolutionOfFailedLookupLocation (/usr/local/lib/node_modules/\u001b[4mtslab\u001b[24m/node_modules/\u001b[4m@tslab\u001b[24m/typescript-for-tslab/lib/typescript.js:110059:28)\n",
      "    at /usr/local/lib/node_modules/\u001b[4mtslab\u001b[24m/node_modules/\u001b[4m@tslab\u001b[24m/typescript-for-tslab/lib/typescript.js:109959:17\n",
      "    at /usr/local/lib/node_modules/\u001b[4mtslab\u001b[24m/node_modules/\u001b[4m@tslab\u001b[24m/typescript-for-tslab/lib/typescript.js:6961:17\n",
      "    at FSWatcher.callbackChangingToMissingFileSystemEntry (/usr/local/lib/node_modules/\u001b[4mtslab\u001b[24m/node_modules/\u001b[4m@tslab\u001b[24m/typescript-for-tslab/lib/typescript.js:7478:25)\n",
      "\u001b[90m    at FSWatcher.emit (node:events:390:28)\u001b[39m\n",
      "\u001b[90m    at FSEvent.FSWatcher._handle.onchange (node:internal/fs/watchers:212:12)\u001b[39m\n",
      "UncaughtException: Error: Unexpected pending rebuildTimer\n",
      "    at Object.sys.setTimeout (/usr/local/lib/node_modules/\u001b[4mtslab\u001b[24m/dist/converter.js:83:19)\n",
      "    at Object.scheduleInvalidateResolutionsOfFailedLookupLocations (/usr/local/lib/node_modules/\u001b[4mtslab\u001b[24m/node_modules/\u001b[4m@tslab\u001b[24m/typescript-for-tslab/lib/typescript.js:111398:61)\n",
      "    at scheduleInvalidateResolutionOfFailedLookupLocation (/usr/local/lib/node_modules/\u001b[4mtslab\u001b[24m/node_modules/\u001b[4m@tslab\u001b[24m/typescript-for-tslab/lib/typescript.js:110059:28)\n",
      "    at /usr/local/lib/node_modules/\u001b[4mtslab\u001b[24m/node_modules/\u001b[4m@tslab\u001b[24m/typescript-for-tslab/lib/typescript.js:109959:17\n",
      "    at /usr/local/lib/node_modules/\u001b[4mtslab\u001b[24m/node_modules/\u001b[4m@tslab\u001b[24m/typescript-for-tslab/lib/typescript.js:6961:17\n",
      "    at FSWatcher.callbackChangingToMissingFileSystemEntry (/usr/local/lib/node_modules/\u001b[4mtslab\u001b[24m/node_modules/\u001b[4m@tslab\u001b[24m/typescript-for-tslab/lib/typescript.js:7478:25)\n",
      "\u001b[90m    at FSWatcher.emit (node:events:390:28)\u001b[39m\n",
      "\u001b[90m    at FSEvent.FSWatcher._handle.onchange (node:internal/fs/watchers:212:12)\u001b[39m\n"
     ]
    }
   ],
   "source": [
    "await spn.fetchJobStatus(jobId)"
   ]
  },
  {
   "cell_type": "code",
   "execution_count": 43,
   "id": "daily-prospect",
   "metadata": {},
   "outputs": [],
   "source": [
    "import got from 'got'"
   ]
  },
  {
   "cell_type": "code",
   "execution_count": 46,
   "id": "international-preserve",
   "metadata": {},
   "outputs": [],
   "source": [
    "const data = await got.get(`http://archive.org/wayback/available?url=${encodeURIComponent(url)}ee`).json() as any"
   ]
  },
  {
   "cell_type": "code",
   "execution_count": 47,
   "id": "mathematical-buying",
   "metadata": {},
   "outputs": [
    {
     "name": "stdout",
     "output_type": "stream",
     "text": [
      "{\n",
      "  url: \u001b[32m'https://twitter.com/quoterot/status/1474769364276633602?q=19ee'\u001b[39m,\n",
      "  archived_snapshots: {}\n",
      "}\n"
     ]
    }
   ],
   "source": [
    "data"
   ]
  },
  {
   "cell_type": "code",
   "execution_count": 52,
   "id": "legendary-tradition",
   "metadata": {},
   "outputs": [],
   "source": [
    "let err\n",
    "\n",
    "try {\n",
    "    await got.post('https://archive.org/account/login', {headers: {'cookie': 'test-cookie=1'}, form: {username: '', password: ''}, responseType: 'json'})\n",
    "} catch (e) { err = e }"
   ]
  },
  {
   "cell_type": "code",
   "execution_count": 58,
   "id": "declared-malawi",
   "metadata": {},
   "outputs": [
    {
     "name": "stdout",
     "output_type": "stream",
     "text": [
      "Response code 401 (Unauthorized)\n"
     ]
    }
   ],
   "source": [
    "err.message"
   ]
  },
  {
   "cell_type": "code",
   "execution_count": 59,
   "id": "fleet-sucking",
   "metadata": {},
   "outputs": [
    {
     "name": "stdout",
     "output_type": "stream",
     "text": [
      "HTTPError: Response code 401 (Unauthorized)\n",
      "    at Request.<anonymous> (/Users/yatharth/Documents/misc/websites/aws/quoterot/quoterot-cdk/node_modules/\u001b[4mgot\u001b[24m/dist/source/as-promise/index.js:117:42)\n",
      "\u001b[90m    at processTicksAndRejections (node:internal/process/task_queues:96:5)\u001b[39m {\n",
      "  code: \u001b[32m'ERR_NON_2XX_3XX_RESPONSE'\u001b[39m,\n",
      "  timings: {\n",
      "    start: \u001b[33m1640764977106\u001b[39m,\n",
      "    socket: \u001b[33m1640764977106\u001b[39m,\n",
      "    lookup: \u001b[33m1640764977111\u001b[39m,\n",
      "    connect: \u001b[33m1640764977430\u001b[39m,\n",
      "    secureConnect: \u001b[33m1640764977724\u001b[39m,\n",
      "    upload: \u001b[33m1640764977724\u001b[39m,\n",
      "    response: \u001b[33m1640764978104\u001b[39m,\n",
      "    end: \u001b[33m1640764978104\u001b[39m,\n",
      "    error: \u001b[90mundefined\u001b[39m,\n",
      "    abort: \u001b[90mundefined\u001b[39m,\n",
      "    phases: {\n",
      "      wait: \u001b[33m0\u001b[39m,\n",
      "      dns: \u001b[33m5\u001b[39m,\n",
      "      tcp: \u001b[33m319\u001b[39m,\n",
      "      tls: \u001b[33m294\u001b[39m,\n",
      "      request: \u001b[33m0\u001b[39m,\n",
      "      firstByte: \u001b[33m380\u001b[39m,\n",
      "      download: \u001b[33m0\u001b[39m,\n",
      "      total: \u001b[33m998\u001b[39m\n",
      "    }\n",
      "  }\n",
      "}\n"
     ]
    },
    {
     "name": "stderr",
     "output_type": "stream",
     "text": [
      "UncaughtException: Error: Unexpected pending rebuildTimer\n",
      "    at Object.sys.setTimeout (/usr/local/lib/node_modules/\u001b[4mtslab\u001b[24m/dist/converter.js:83:19)\n",
      "    at Object.scheduleProgramUpdate (/usr/local/lib/node_modules/\u001b[4mtslab\u001b[24m/node_modules/\u001b[4m@tslab\u001b[24m/typescript-for-tslab/lib/typescript.js:111417:41)\n",
      "    at /usr/local/lib/node_modules/\u001b[4mtslab\u001b[24m/node_modules/\u001b[4m@tslab\u001b[24m/typescript-for-tslab/lib/typescript.js:110101:32\n",
      "    at /usr/local/lib/node_modules/\u001b[4mtslab\u001b[24m/node_modules/\u001b[4m@tslab\u001b[24m/typescript-for-tslab/lib/typescript.js:6961:17\n",
      "    at FSWatcher.callbackChangingToMissingFileSystemEntry (/usr/local/lib/node_modules/\u001b[4mtslab\u001b[24m/node_modules/\u001b[4m@tslab\u001b[24m/typescript-for-tslab/lib/typescript.js:7478:25)\n",
      "\u001b[90m    at FSWatcher.emit (node:events:390:28)\u001b[39m\n",
      "\u001b[90m    at FSEvent.FSWatcher._handle.onchange (node:internal/fs/watchers:212:12)\u001b[39m\n",
      "UncaughtException: Error: Unexpected pending rebuildTimer\n",
      "    at Object.sys.setTimeout (/usr/local/lib/node_modules/\u001b[4mtslab\u001b[24m/dist/converter.js:83:19)\n",
      "    at Object.scheduleProgramUpdate (/usr/local/lib/node_modules/\u001b[4mtslab\u001b[24m/node_modules/\u001b[4m@tslab\u001b[24m/typescript-for-tslab/lib/typescript.js:111417:41)\n",
      "    at /usr/local/lib/node_modules/\u001b[4mtslab\u001b[24m/node_modules/\u001b[4m@tslab\u001b[24m/typescript-for-tslab/lib/typescript.js:110101:32\n",
      "    at /usr/local/lib/node_modules/\u001b[4mtslab\u001b[24m/node_modules/\u001b[4m@tslab\u001b[24m/typescript-for-tslab/lib/typescript.js:6961:17\n",
      "    at FSWatcher.callbackChangingToMissingFileSystemEntry (/usr/local/lib/node_modules/\u001b[4mtslab\u001b[24m/node_modules/\u001b[4m@tslab\u001b[24m/typescript-for-tslab/lib/typescript.js:7478:25)\n",
      "\u001b[90m    at FSWatcher.emit (node:events:390:28)\u001b[39m\n",
      "\u001b[90m    at FSEvent.FSWatcher._handle.onchange (node:internal/fs/watchers:212:12)\u001b[39m\n",
      "UncaughtException: Error: Unexpected pending rebuildTimer\n",
      "    at Object.sys.setTimeout (/usr/local/lib/node_modules/\u001b[4mtslab\u001b[24m/dist/converter.js:83:19)\n",
      "    at Object.scheduleProgramUpdate (/usr/local/lib/node_modules/\u001b[4mtslab\u001b[24m/node_modules/\u001b[4m@tslab\u001b[24m/typescript-for-tslab/lib/typescript.js:111417:41)\n",
      "    at /usr/local/lib/node_modules/\u001b[4mtslab\u001b[24m/node_modules/\u001b[4m@tslab\u001b[24m/typescript-for-tslab/lib/typescript.js:110101:32\n",
      "    at /usr/local/lib/node_modules/\u001b[4mtslab\u001b[24m/node_modules/\u001b[4m@tslab\u001b[24m/typescript-for-tslab/lib/typescript.js:6961:17\n",
      "    at FSWatcher.callbackChangingToMissingFileSystemEntry (/usr/local/lib/node_modules/\u001b[4mtslab\u001b[24m/node_modules/\u001b[4m@tslab\u001b[24m/typescript-for-tslab/lib/typescript.js:7478:25)\n",
      "\u001b[90m    at FSWatcher.emit (node:events:390:28)\u001b[39m\n",
      "\u001b[90m    at FSEvent.FSWatcher._handle.onchange (node:internal/fs/watchers:212:12)\u001b[39m\n",
      "UncaughtException: Error: Unexpected pending rebuildTimer\n",
      "    at Object.sys.setTimeout (/usr/local/lib/node_modules/\u001b[4mtslab\u001b[24m/dist/converter.js:83:19)\n",
      "    at Object.scheduleProgramUpdate (/usr/local/lib/node_modules/\u001b[4mtslab\u001b[24m/node_modules/\u001b[4m@tslab\u001b[24m/typescript-for-tslab/lib/typescript.js:111417:41)\n",
      "    at /usr/local/lib/node_modules/\u001b[4mtslab\u001b[24m/node_modules/\u001b[4m@tslab\u001b[24m/typescript-for-tslab/lib/typescript.js:110101:32\n",
      "    at /usr/local/lib/node_modules/\u001b[4mtslab\u001b[24m/node_modules/\u001b[4m@tslab\u001b[24m/typescript-for-tslab/lib/typescript.js:6961:17\n",
      "    at FSWatcher.callbackChangingToMissingFileSystemEntry (/usr/local/lib/node_modules/\u001b[4mtslab\u001b[24m/node_modules/\u001b[4m@tslab\u001b[24m/typescript-for-tslab/lib/typescript.js:7478:25)\n",
      "\u001b[90m    at FSWatcher.emit (node:events:390:28)\u001b[39m\n",
      "\u001b[90m    at FSEvent.FSWatcher._handle.onchange (node:internal/fs/watchers:212:12)\u001b[39m\n",
      "UncaughtException: Error: Unexpected pending rebuildTimer\n",
      "    at Object.sys.setTimeout (/usr/local/lib/node_modules/\u001b[4mtslab\u001b[24m/dist/converter.js:83:19)\n",
      "    at Object.scheduleProgramUpdate (/usr/local/lib/node_modules/\u001b[4mtslab\u001b[24m/node_modules/\u001b[4m@tslab\u001b[24m/typescript-for-tslab/lib/typescript.js:111417:41)\n",
      "    at /usr/local/lib/node_modules/\u001b[4mtslab\u001b[24m/node_modules/\u001b[4m@tslab\u001b[24m/typescript-for-tslab/lib/typescript.js:110101:32\n",
      "    at /usr/local/lib/node_modules/\u001b[4mtslab\u001b[24m/node_modules/\u001b[4m@tslab\u001b[24m/typescript-for-tslab/lib/typescript.js:6961:17\n",
      "    at FSWatcher.callbackChangingToMissingFileSystemEntry (/usr/local/lib/node_modules/\u001b[4mtslab\u001b[24m/node_modules/\u001b[4m@tslab\u001b[24m/typescript-for-tslab/lib/typescript.js:7478:25)\n",
      "\u001b[90m    at FSWatcher.emit (node:events:390:28)\u001b[39m\n",
      "\u001b[90m    at FSEvent.FSWatcher._handle.onchange (node:internal/fs/watchers:212:12)\u001b[39m\n",
      "UncaughtException: Error: Unexpected pending rebuildTimer\n",
      "    at Object.sys.setTimeout (/usr/local/lib/node_modules/\u001b[4mtslab\u001b[24m/dist/converter.js:83:19)\n",
      "    at Object.scheduleProgramUpdate (/usr/local/lib/node_modules/\u001b[4mtslab\u001b[24m/node_modules/\u001b[4m@tslab\u001b[24m/typescript-for-tslab/lib/typescript.js:111417:41)\n",
      "    at /usr/local/lib/node_modules/\u001b[4mtslab\u001b[24m/node_modules/\u001b[4m@tslab\u001b[24m/typescript-for-tslab/lib/typescript.js:110101:32\n",
      "    at /usr/local/lib/node_modules/\u001b[4mtslab\u001b[24m/node_modules/\u001b[4m@tslab\u001b[24m/typescript-for-tslab/lib/typescript.js:6961:17\n",
      "    at FSWatcher.callbackChangingToMissingFileSystemEntry (/usr/local/lib/node_modules/\u001b[4mtslab\u001b[24m/node_modules/\u001b[4m@tslab\u001b[24m/typescript-for-tslab/lib/typescript.js:7478:25)\n",
      "\u001b[90m    at FSWatcher.emit (node:events:390:28)\u001b[39m\n",
      "\u001b[90m    at FSEvent.FSWatcher._handle.onchange (node:internal/fs/watchers:212:12)\u001b[39m\n",
      "UncaughtException: Error: Unexpected pending rebuildTimer\n",
      "    at Object.sys.setTimeout (/usr/local/lib/node_modules/\u001b[4mtslab\u001b[24m/dist/converter.js:83:19)\n",
      "    at Object.scheduleProgramUpdate (/usr/local/lib/node_modules/\u001b[4mtslab\u001b[24m/node_modules/\u001b[4m@tslab\u001b[24m/typescript-for-tslab/lib/typescript.js:111417:41)\n",
      "    at /usr/local/lib/node_modules/\u001b[4mtslab\u001b[24m/node_modules/\u001b[4m@tslab\u001b[24m/typescript-for-tslab/lib/typescript.js:110101:32\n",
      "    at /usr/local/lib/node_modules/\u001b[4mtslab\u001b[24m/node_modules/\u001b[4m@tslab\u001b[24m/typescript-for-tslab/lib/typescript.js:6961:17\n",
      "    at FSWatcher.callbackChangingToMissingFileSystemEntry (/usr/local/lib/node_modules/\u001b[4mtslab\u001b[24m/node_modules/\u001b[4m@tslab\u001b[24m/typescript-for-tslab/lib/typescript.js:7478:25)\n",
      "\u001b[90m    at FSWatcher.emit (node:events:390:28)\u001b[39m\n",
      "\u001b[90m    at FSEvent.FSWatcher._handle.onchange (node:internal/fs/watchers:212:12)\u001b[39m\n",
      "UncaughtException: Error: Unexpected pending rebuildTimer\n",
      "    at Object.sys.setTimeout (/usr/local/lib/node_modules/\u001b[4mtslab\u001b[24m/dist/converter.js:83:19)\n",
      "    at Object.scheduleProgramUpdate (/usr/local/lib/node_modules/\u001b[4mtslab\u001b[24m/node_modules/\u001b[4m@tslab\u001b[24m/typescript-for-tslab/lib/typescript.js:111417:41)\n",
      "    at /usr/local/lib/node_modules/\u001b[4mtslab\u001b[24m/node_modules/\u001b[4m@tslab\u001b[24m/typescript-for-tslab/lib/typescript.js:110101:32\n",
      "    at /usr/local/lib/node_modules/\u001b[4mtslab\u001b[24m/node_modules/\u001b[4m@tslab\u001b[24m/typescript-for-tslab/lib/typescript.js:6961:17\n",
      "    at FSWatcher.callbackChangingToMissingFileSystemEntry (/usr/local/lib/node_modules/\u001b[4mtslab\u001b[24m/node_modules/\u001b[4m@tslab\u001b[24m/typescript-for-tslab/lib/typescript.js:7478:25)\n",
      "\u001b[90m    at FSWatcher.emit (node:events:390:28)\u001b[39m\n",
      "\u001b[90m    at FSEvent.FSWatcher._handle.onchange (node:internal/fs/watchers:212:12)\u001b[39m\n",
      "UncaughtException: Error: Unexpected pending rebuildTimer\n",
      "    at Object.sys.setTimeout (/usr/local/lib/node_modules/\u001b[4mtslab\u001b[24m/dist/converter.js:83:19)\n",
      "    at Object.scheduleProgramUpdate (/usr/local/lib/node_modules/\u001b[4mtslab\u001b[24m/node_modules/\u001b[4m@tslab\u001b[24m/typescript-for-tslab/lib/typescript.js:111417:41)\n",
      "    at /usr/local/lib/node_modules/\u001b[4mtslab\u001b[24m/node_modules/\u001b[4m@tslab\u001b[24m/typescript-for-tslab/lib/typescript.js:110101:32\n",
      "    at /usr/local/lib/node_modules/\u001b[4mtslab\u001b[24m/node_modules/\u001b[4m@tslab\u001b[24m/typescript-for-tslab/lib/typescript.js:6961:17\n",
      "    at FSWatcher.callbackChangingToMissingFileSystemEntry (/usr/local/lib/node_modules/\u001b[4mtslab\u001b[24m/node_modules/\u001b[4m@tslab\u001b[24m/typescript-for-tslab/lib/typescript.js:7478:25)\n",
      "\u001b[90m    at FSWatcher.emit (node:events:390:28)\u001b[39m\n",
      "\u001b[90m    at FSEvent.FSWatcher._handle.onchange (node:internal/fs/watchers:212:12)\u001b[39m\n",
      "UncaughtException: Error: Unexpected pending rebuildTimer\n",
      "    at Object.sys.setTimeout (/usr/local/lib/node_modules/\u001b[4mtslab\u001b[24m/dist/converter.js:83:19)\n",
      "    at Object.scheduleProgramUpdate (/usr/local/lib/node_modules/\u001b[4mtslab\u001b[24m/node_modules/\u001b[4m@tslab\u001b[24m/typescript-for-tslab/lib/typescript.js:111417:41)\n",
      "    at /usr/local/lib/node_modules/\u001b[4mtslab\u001b[24m/node_modules/\u001b[4m@tslab\u001b[24m/typescript-for-tslab/lib/typescript.js:110101:32\n",
      "    at /usr/local/lib/node_modules/\u001b[4mtslab\u001b[24m/node_modules/\u001b[4m@tslab\u001b[24m/typescript-for-tslab/lib/typescript.js:6961:17\n",
      "    at FSWatcher.callbackChangingToMissingFileSystemEntry (/usr/local/lib/node_modules/\u001b[4mtslab\u001b[24m/node_modules/\u001b[4m@tslab\u001b[24m/typescript-for-tslab/lib/typescript.js:7478:25)\n",
      "\u001b[90m    at FSWatcher.emit (node:events:390:28)\u001b[39m\n",
      "\u001b[90m    at FSEvent.FSWatcher._handle.onchange (node:internal/fs/watchers:212:12)\u001b[39m\n",
      "UncaughtException: Error: Unexpected pending rebuildTimer\n",
      "    at Object.sys.setTimeout (/usr/local/lib/node_modules/\u001b[4mtslab\u001b[24m/dist/converter.js:83:19)\n",
      "    at scheduleProgramUpdate (/usr/local/lib/node_modules/\u001b[4mtslab\u001b[24m/node_modules/\u001b[4m@tslab\u001b[24m/typescript-for-tslab/lib/typescript.js:111417:41)\n",
      "    at onSourceFileChange (/usr/local/lib/node_modules/\u001b[4mtslab\u001b[24m/node_modules/\u001b[4m@tslab\u001b[24m/typescript-for-tslab/lib/typescript.js:111491:13)\n",
      "    at /usr/local/lib/node_modules/\u001b[4mtslab\u001b[24m/node_modules/\u001b[4m@tslab\u001b[24m/typescript-for-tslab/lib/typescript.js:104579:78\n",
      "    at cb (/usr/local/lib/node_modules/\u001b[4mtslab\u001b[24m/dist/converter.js:151:13)\n",
      "    at /usr/local/lib/node_modules/\u001b[4mtslab\u001b[24m/node_modules/\u001b[4m@tslab\u001b[24m/typescript-for-tslab/lib/typescript.js:6668:150\n",
      "    at Object.forEach (/usr/local/lib/node_modules/\u001b[4mtslab\u001b[24m/node_modules/\u001b[4m@tslab\u001b[24m/typescript-for-tslab/lib/typescript.js:386:30)\n",
      "    at /usr/local/lib/node_modules/\u001b[4mtslab\u001b[24m/node_modules/\u001b[4m@tslab\u001b[24m/typescript-for-tslab/lib/typescript.js:6668:93\n",
      "    at StatWatcher.fileChanged (/usr/local/lib/node_modules/\u001b[4mtslab\u001b[24m/node_modules/\u001b[4m@tslab\u001b[24m/typescript-for-tslab/lib/typescript.js:7403:21)\n",
      "\u001b[90m    at StatWatcher.emit (node:events:390:28)\u001b[39m\n",
      "UncaughtException: Error: Unexpected pending rebuildTimer\n",
      "    at Object.sys.setTimeout (/usr/local/lib/node_modules/\u001b[4mtslab\u001b[24m/dist/converter.js:83:19)\n",
      "    at scheduleProgramUpdate (/usr/local/lib/node_modules/\u001b[4mtslab\u001b[24m/node_modules/\u001b[4m@tslab\u001b[24m/typescript-for-tslab/lib/typescript.js:111417:41)\n",
      "    at onSourceFileChange (/usr/local/lib/node_modules/\u001b[4mtslab\u001b[24m/node_modules/\u001b[4m@tslab\u001b[24m/typescript-for-tslab/lib/typescript.js:111491:13)\n",
      "    at /usr/local/lib/node_modules/\u001b[4mtslab\u001b[24m/node_modules/\u001b[4m@tslab\u001b[24m/typescript-for-tslab/lib/typescript.js:104579:78\n",
      "    at cb (/usr/local/lib/node_modules/\u001b[4mtslab\u001b[24m/dist/converter.js:151:13)\n",
      "    at /usr/local/lib/node_modules/\u001b[4mtslab\u001b[24m/node_modules/\u001b[4m@tslab\u001b[24m/typescript-for-tslab/lib/typescript.js:6668:150\n",
      "    at Object.forEach (/usr/local/lib/node_modules/\u001b[4mtslab\u001b[24m/node_modules/\u001b[4m@tslab\u001b[24m/typescript-for-tslab/lib/typescript.js:386:30)\n",
      "    at /usr/local/lib/node_modules/\u001b[4mtslab\u001b[24m/node_modules/\u001b[4m@tslab\u001b[24m/typescript-for-tslab/lib/typescript.js:6668:93\n",
      "    at StatWatcher.fileChanged (/usr/local/lib/node_modules/\u001b[4mtslab\u001b[24m/node_modules/\u001b[4m@tslab\u001b[24m/typescript-for-tslab/lib/typescript.js:7403:21)\n",
      "\u001b[90m    at StatWatcher.emit (node:events:390:28)\u001b[39m\n",
      "UncaughtException: Error: Unexpected pending rebuildTimer\n",
      "    at Object.sys.setTimeout (/usr/local/lib/node_modules/\u001b[4mtslab\u001b[24m/dist/converter.js:83:19)\n",
      "    at scheduleProgramUpdate (/usr/local/lib/node_modules/\u001b[4mtslab\u001b[24m/node_modules/\u001b[4m@tslab\u001b[24m/typescript-for-tslab/lib/typescript.js:111417:41)\n",
      "    at onSourceFileChange (/usr/local/lib/node_modules/\u001b[4mtslab\u001b[24m/node_modules/\u001b[4m@tslab\u001b[24m/typescript-for-tslab/lib/typescript.js:111491:13)\n",
      "    at /usr/local/lib/node_modules/\u001b[4mtslab\u001b[24m/node_modules/\u001b[4m@tslab\u001b[24m/typescript-for-tslab/lib/typescript.js:104579:78\n",
      "    at cb (/usr/local/lib/node_modules/\u001b[4mtslab\u001b[24m/dist/converter.js:151:13)\n",
      "    at /usr/local/lib/node_modules/\u001b[4mtslab\u001b[24m/node_modules/\u001b[4m@tslab\u001b[24m/typescript-for-tslab/lib/typescript.js:6668:150\n",
      "    at Object.forEach (/usr/local/lib/node_modules/\u001b[4mtslab\u001b[24m/node_modules/\u001b[4m@tslab\u001b[24m/typescript-for-tslab/lib/typescript.js:386:30)\n",
      "    at /usr/local/lib/node_modules/\u001b[4mtslab\u001b[24m/node_modules/\u001b[4m@tslab\u001b[24m/typescript-for-tslab/lib/typescript.js:6668:93\n",
      "    at StatWatcher.fileChanged (/usr/local/lib/node_modules/\u001b[4mtslab\u001b[24m/node_modules/\u001b[4m@tslab\u001b[24m/typescript-for-tslab/lib/typescript.js:7403:21)\n",
      "\u001b[90m    at StatWatcher.emit (node:events:390:28)\u001b[39m\n",
      "UncaughtException: Error: Unexpected pending rebuildTimer\n",
      "    at Object.sys.setTimeout (/usr/local/lib/node_modules/\u001b[4mtslab\u001b[24m/dist/converter.js:83:19)\n",
      "    at scheduleProgramUpdate (/usr/local/lib/node_modules/\u001b[4mtslab\u001b[24m/node_modules/\u001b[4m@tslab\u001b[24m/typescript-for-tslab/lib/typescript.js:111417:41)\n",
      "    at onSourceFileChange (/usr/local/lib/node_modules/\u001b[4mtslab\u001b[24m/node_modules/\u001b[4m@tslab\u001b[24m/typescript-for-tslab/lib/typescript.js:111491:13)\n",
      "    at /usr/local/lib/node_modules/\u001b[4mtslab\u001b[24m/node_modules/\u001b[4m@tslab\u001b[24m/typescript-for-tslab/lib/typescript.js:104579:78\n",
      "    at cb (/usr/local/lib/node_modules/\u001b[4mtslab\u001b[24m/dist/converter.js:151:13)\n",
      "    at /usr/local/lib/node_modules/\u001b[4mtslab\u001b[24m/node_modules/\u001b[4m@tslab\u001b[24m/typescript-for-tslab/lib/typescript.js:6668:150\n",
      "    at Object.forEach (/usr/local/lib/node_modules/\u001b[4mtslab\u001b[24m/node_modules/\u001b[4m@tslab\u001b[24m/typescript-for-tslab/lib/typescript.js:386:30)\n",
      "    at /usr/local/lib/node_modules/\u001b[4mtslab\u001b[24m/node_modules/\u001b[4m@tslab\u001b[24m/typescript-for-tslab/lib/typescript.js:6668:93\n",
      "    at StatWatcher.fileChanged (/usr/local/lib/node_modules/\u001b[4mtslab\u001b[24m/node_modules/\u001b[4m@tslab\u001b[24m/typescript-for-tslab/lib/typescript.js:7403:21)\n",
      "\u001b[90m    at StatWatcher.emit (node:events:390:28)\u001b[39m\n"
     ]
    }
   ],
   "source": [
    "err"
   ]
  },
  {
   "cell_type": "code",
   "execution_count": 56,
   "id": "caroline-audio",
   "metadata": {},
   "outputs": [
    {
     "name": "stdout",
     "output_type": "stream",
     "text": [
      "HTTPError: Response code 401 (Unauthorized)\n",
      "    at Request.<anonymous> (/Users/yatharth/Documents/misc/websites/aws/quoterot/quoterot-cdk/node_modules/\u001b[4mgot\u001b[24m/dist/source/as-promise/index.js:117:42)\n",
      "\u001b[90m    at processTicksAndRejections (node:internal/process/task_queues:96:5)\u001b[39m {\n",
      "  code: \u001b[32m'ERR_NON_2XX_3XX_RESPONSE'\u001b[39m,\n",
      "  timings: {\n",
      "    start: \u001b[33m1640764977106\u001b[39m,\n",
      "    socket: \u001b[33m1640764977106\u001b[39m,\n",
      "    lookup: \u001b[33m1640764977111\u001b[39m,\n",
      "    connect: \u001b[33m1640764977430\u001b[39m,\n",
      "    secureConnect: \u001b[33m1640764977724\u001b[39m,\n",
      "    upload: \u001b[33m1640764977724\u001b[39m,\n",
      "    response: \u001b[33m1640764978104\u001b[39m,\n",
      "    end: \u001b[33m1640764978104\u001b[39m,\n",
      "    error: \u001b[90mundefined\u001b[39m,\n",
      "    abort: \u001b[90mundefined\u001b[39m,\n",
      "    phases: {\n",
      "      wait: \u001b[33m0\u001b[39m,\n",
      "      dns: \u001b[33m5\u001b[39m,\n",
      "      tcp: \u001b[33m319\u001b[39m,\n",
      "      tls: \u001b[33m294\u001b[39m,\n",
      "      request: \u001b[33m0\u001b[39m,\n",
      "      firstByte: \u001b[33m380\u001b[39m,\n",
      "      download: \u001b[33m0\u001b[39m,\n",
      "      total: \u001b[33m998\u001b[39m\n",
      "    }\n",
      "  }\n",
      "}\n"
     ]
    }
   ],
   "source": [
    "console.log(err)"
   ]
  },
  {
   "cell_type": "code",
   "execution_count": 55,
   "id": "wanted-simple",
   "metadata": {},
   "outputs": [],
   "source": [
    "import wayback from 'wayback-machine'"
   ]
  },
  {
   "cell_type": "code",
   "execution_count": 77,
   "id": "hazardous-priority",
   "metadata": {},
   "outputs": [
    {
     "name": "stdout",
     "output_type": "stream",
     "text": [
      "Timeline for <http://example.com/fayrie>:\n",
      "{\n",
      "  original: \u001b[1mnull\u001b[22m,\n",
      "  timegate: \u001b[1mnull\u001b[22m,\n",
      "  first: \u001b[1mnull\u001b[22m,\n",
      "  last: \u001b[1mnull\u001b[22m,\n",
      "  mementos: []\n",
      "}\n"
     ]
    }
   ],
   "source": [
    "const url = 'http://example.com/fayrie'\n",
    "\n",
    "const timeline = await wayback.getTimeline(url, function(err, timeline) {\n",
    "  if (err) {\n",
    "    console.error(err);\n",
    "    return;\n",
    "  }\n",
    " \n",
    "  console.log('Timeline for <%s>:', url);\n",
    "  console.log(timeline);\n",
    "});"
   ]
  },
  {
   "cell_type": "markdown",
   "id": "golden-zimbabwe",
   "metadata": {},
   "source": [
    "# Wayback Machine to retrieve"
   ]
  },
  {
   "cell_type": "code",
   "execution_count": 9,
   "id": "powerful-computer",
   "metadata": {},
   "outputs": [],
   "source": [
    "import wayback from 'wayback-machine'"
   ]
  },
  {
   "cell_type": "code",
   "execution_count": 41,
   "id": "humanitarian-pantyhose",
   "metadata": {},
   "outputs": [
    {
     "name": "stderr",
     "output_type": "stream",
     "text": [
      "UncaughtException: TypeError: callback is not a function\n",
      "    at Stream.<anonymous> (/Users/yatharth/Documents/misc/websites/aws/quoterot/quoterot-cdk/node_modules/\u001b[4mwayback-machine\u001b[24m/lib/closest.js:28:4)\n",
      "\u001b[90m    at Stream.emit (node:events:390:28)\u001b[39m\n",
      "    at drain (/Users/yatharth/Documents/misc/websites/aws/quoterot/quoterot-cdk/node_modules/\u001b[4mthrough\u001b[24m/index.js:36:16)\n",
      "    at Stream.stream.queue.stream.push (/Users/yatharth/Documents/misc/websites/aws/quoterot/quoterot-cdk/node_modules/\u001b[4mthrough\u001b[24m/index.js:45:5)\n",
      "    at emit (/Users/yatharth/Documents/misc/websites/aws/quoterot/quoterot-cdk/node_modules/\u001b[4mwayback-machine\u001b[24m/node_modules/\u001b[4msplit\u001b[24m/index.js:34:16)\n",
      "    at Stream.<anonymous> (/Users/yatharth/Documents/misc/websites/aws/quoterot/quoterot-cdk/node_modules/\u001b[4mwayback-machine\u001b[24m/node_modules/\u001b[4msplit\u001b[24m/index.js:60:7)\n",
      "    at _end (/Users/yatharth/Documents/misc/websites/aws/quoterot/quoterot-cdk/node_modules/\u001b[4mthrough\u001b[24m/index.js:65:9)\n",
      "    at Stream.stream.end (/Users/yatharth/Documents/misc/websites/aws/quoterot/quoterot-cdk/node_modules/\u001b[4mthrough\u001b[24m/index.js:74:5)\n",
      "\u001b[90m    at FetchStream.onend (node:internal/streams/readable:716:10)\u001b[39m\n",
      "\u001b[90m    at Object.onceWrapper (node:events:509:28)\u001b[39m\n"
     ]
    }
   ],
   "source": [
    "wayback.getLastArchiveUrl(url, (err, ))"
   ]
  },
  {
   "cell_type": "code",
   "execution_count": 21,
   "id": "modern-disposition",
   "metadata": {},
   "outputs": [
    {
     "name": "stdout",
     "output_type": "stream",
     "text": [
      "{\n",
      "  original: \u001b[32m'https://twitter.com/quoterot/status/1474769364276633602?q=20'\u001b[39m,\n",
      "  timegate: \u001b[32m'http://web.archive.org/web/https://twitter.com/quoterot/status/1474769364276633602?q=20'\u001b[39m,\n",
      "  first: {\n",
      "    url: \u001b[32m'http://web.archive.org/web/20211228203959/https://twitter.com/quoterot/status/1474769364276633602?q=20'\u001b[39m,\n",
      "    time: \u001b[35m2021-12-28T20:39:59.000Z\u001b[39m\n",
      "  },\n",
      "  last: \u001b[1mnull\u001b[22m,\n",
      "  mementos: [\n",
      "    {\n",
      "      url: \u001b[32m'http://web.archive.org/web/20211228203959/https://twitter.com/quoterot/status/1474769364276633602?q=20'\u001b[39m,\n",
      "      time: \u001b[35m2021-12-28T20:39:59.000Z\u001b[39m\n",
      "    }\n",
      "  ]\n",
      "}\n"
     ]
    }
   ],
   "source": [
    "wayback.getTimeline(url, function(err, timeline) {\n",
    "  if (err) {\n",
    "    console.error(err)\n",
    "  } else {\n",
    "      console.log(timeline)\n",
    "  } \n",
    "})"
   ]
  },
  {
   "cell_type": "code",
   "execution_count": 32,
   "id": "amazing-treasurer",
   "metadata": {},
   "outputs": [
    {
     "name": "stdout",
     "output_type": "stream",
     "text": [
      "{\n",
      "  original: \u001b[1mnull\u001b[22m,\n",
      "  timegate: \u001b[1mnull\u001b[22m,\n",
      "  first: \u001b[1mnull\u001b[22m,\n",
      "  last: \u001b[1mnull\u001b[22m,\n",
      "  mementos: []\n",
      "}\n"
     ]
    }
   ],
   "source": [
    "wayback.getTimeline(url, function(err, timeline) {\n",
    "  if (err) {\n",
    "    console.error(err)\n",
    "  } else {\n",
    "      console.log(timeline)\n",
    "  } \n",
    "})"
   ]
  },
  {
   "cell_type": "markdown",
   "id": "natural-australian",
   "metadata": {},
   "source": [
    "# Login XHR request made by Internet Archive website"
   ]
  },
  {
   "cell_type": "markdown",
   "id": "mineral-secondary",
   "metadata": {},
   "source": [
    "```\n",
    "var e = document.getElementsByClassName(\"login-form\")[0];\n",
    "e && window.addEvent(e, \"submit\", (function() {\n",
    "    event.preventDefault();\n",
    "    var t = e.getElementsByClassName(\"input-email\")[0],\n",
    "        n = e.getElementsByClassName(\"username-error\")[0];\n",
    "    if (\"\" === t.value)\n",
    "        return n.innerHTML = \"Please enter email address\", void t.classList.add(\"error-field\");\n",
    "    var s = e.getElementsByClassName(\"input-password\")[0],\n",
    "        a = e.getElementsByClassName(\"password-error\")[0],\n",
    "        r = e.getElementsByClassName(\"reset-password\")[0];\n",
    "    if (\"\" === s.value)\n",
    "        return a.innerHTML = \"Please enter password\", s.classList.add(\"error-field\"), void r.classList.add(\"hidden\");\n",
    "    var o = window.location.origin,\n",
    "        i = e.querySelector(\".login-referer\"),\n",
    "        d = e.querySelector('input[type=\"checkbox\"]:checked'),\n",
    "        l = e.querySelector(\".input-submit\"),\n",
    "        c = new FormData;\n",
    "    c.append(\"username\", t.value),\n",
    "    c.append(\"password\", s.value),\n",
    "    c.append(\"remember\", null !== d),\n",
    "    c.append(\"referer\", i.value),\n",
    "    c.append(\"login\", !0),\n",
    "    c.append(\"submit_by_js\", !0);\n",
    "    var u = new XMLHttpRequest;\n",
    "    u.open(\"POST\", e.action, !0),\n",
    "    l.setAttribute(\"disabled\", \"disabled\"),\n",
    "    u.onreadystatechange = function() {\n",
    "        if (4 === u.readyState) {\n",
    "            var e = JSON.parse(u.responseText);\n",
    "            if (\"ok\" === e.status)\n",
    "                window.location.href = \"\".concat(e.referer);\n",
    "            else {\n",
    "                l.removeAttribute(\"disabled\");\n",
    "                var t = e.status;\n",
    "                \"bad_login\" === t || \"account_locked\" === t ? (a.innerHTML = e.message, r.classList.add(\"hidden\")) : \"account_not_verified\" === t && (window.location.href = \"\".concat(o, \"/account/login?status=unverified&t=\").concat(e.resend_token))\n",
    "            }\n",
    "        }\n",
    "    },\n",
    "    u.send(c)\n",
    "}))\n",
    "```"
   ]
  },
  {
   "cell_type": "markdown",
   "id": "protecting-oklahoma",
   "metadata": {},
   "source": [
    "```\n",
    "c = new FormData;\n",
    "c.append(\"username\", 'yatharth999@gmail.com'),\n",
    "c.append(\"password\", 'rkybffk5m6'),\n",
    "c.append(\"remember\", true),\n",
    "c.append(\"referer\", 'https://archive.org'),\n",
    "c.append(\"login\", true),\n",
    "c.append(\"submit_by_js\", true);\n",
    "\n",
    "var u = new XMLHttpRequest;\n",
    "u.open(\"POST\", 'https://archive.org/account/login', true),\n",
    "u.onreadystatechange = function() {\n",
    "    if (4 === u.readyState) {\n",
    "        console.log(\"ready\")\n",
    "        console.log(u.responseText.slice(0, 100))\n",
    "    }\n",
    "},\n",
    "u.send(c)\n",
    "```"
   ]
  },
  {
   "cell_type": "markdown",
   "id": "atomic-tablet",
   "metadata": {},
   "source": [
    "```\n",
    "curl 'https://archive.org/account/login' \\\n",
    "  -H 'content-type: multipart/form-data; boundary=----WebKitFormBoundaryuRESSUxfeBG5oB1A' \\\n",
    "  -H 'cookie: 'test-cookie=1' \\\n",
    "  --data-raw '------WebKitFormBoundaryuRESSUxfeBG5oB1A\n",
    "Content-Disposition: form-data; name=\"username\"\n",
    "\n",
    "yatharth999@gmail.com\n",
    "------WebKitFormBoundaryuRESSUxfeBG5oB1A\n",
    "Content-Disposition: form-data; name=\"password\"\n",
    "\n",
    "rkybffk5m6\n",
    "------WebKitFormBoundaryuRESSUxfeBG5oB1A\n",
    "Content-Disposition: form-data; name=\"remember\"\n",
    "\n",
    "true\n",
    "------WebKitFormBoundaryuRESSUxfeBG5oB1A\n",
    "Content-Disposition: form-data; name=\"referer\"\n",
    "\n",
    "https://archive.org/\n",
    "------WebKitFormBoundaryuRESSUxfeBG5oB1A\n",
    "Content-Disposition: form-data; name=\"login\"\n",
    "\n",
    "true\n",
    "------WebKitFormBoundaryuRESSUxfeBG5oB1A\n",
    "Content-Disposition: form-data; name=\"submit_by_js\"\n",
    "\n",
    "true\n",
    "------WebKitFormBoundaryuRESSUxfeBG5oB1A--'\n",
    "```"
   ]
  },
  {
   "cell_type": "code",
   "execution_count": 6,
   "id": "reported-balloon",
   "metadata": {},
   "outputs": [
    {
     "name": "stdout",
     "output_type": "stream",
     "text": [
      "\u001b[36m[Function: html]\u001b[39m\n"
     ]
    }
   ],
   "source": [
    "import {display} from 'tslab'\n",
    "display.html"
   ]
  },
  {
   "cell_type": "markdown",
   "id": "mysterious-limit",
   "metadata": {},
   "source": [
    "```\n",
    "{\n",
    "  PHPSESSID: {\n",
    "    name: 'PHPSESSID',\n",
    "    value: 'd727pe0deqt19vqfmqb4a1llah',\n",
    "    path: '/',\n",
    "    domain: '.archive.org'\n",
    "  },\n",
    "  'logged-in-sig': {\n",
    "    name: 'logged-in-sig',\n",
    "    value: '1640703265 1640699665 cuIWiTSDURptALOQvw+Wzw4iwkvpIlpqADQH8amIa/1z9BP8F3vKNAQHLR676Ug7ztXmEgLcDQg92yDJPArSds/NFnXxSxyPt6fkXflo/Iy1aV1MC0qSUPuBP/H/nRWDE72QD0+wb8/E1V6ej5iibRc+m7n6iPoJh1jPwlNKRHs=',\n",
    "    expires: 2021-12-28T14:54:25.000Z,\n",
    "    maxAge: 3600,\n",
    "    path: '/',\n",
    "    domain: '.archive.org'\n",
    "  },\n",
    "  'logged-in-user': {\n",
    "    name: 'logged-in-user',\n",
    "    value: 'yatharth999@gmail.com',\n",
    "    expires: 2021-12-28T14:54:25.000Z,\n",
    "    maxAge: 3600,\n",
    "    path: '/',\n",
    "    domain: '.archive.org'\n",
    "  }\n",
    "}\n",
    "```"
   ]
  },
  {
   "cell_type": "markdown",
   "id": "annual-black",
   "metadata": {},
   "source": [
    "# Creating a Save Page Now wrapper"
   ]
  },
  {
   "cell_type": "code",
   "execution_count": 1,
   "id": "acoustic-frequency",
   "metadata": {},
   "outputs": [],
   "source": [
    "import got, {Options} from 'got'"
   ]
  },
  {
   "cell_type": "code",
   "execution_count": 6,
   "id": "greek-promotion",
   "metadata": {},
   "outputs": [],
   "source": [
    "const cookies = {\n",
    "    'logged-in-user': 'yatharth999%40gmail.com',\n",
    "    'logged-in-sig': '1671293492%201639757492%20cw4cqt78Vm288CZAzLcP4QK71g3w77kP53J58%2FZLb55ud%2F8097e%2By6w8xMrn8fVtjAUuugwoTqOENGjtG2mzKPBNX5ND7BU5DOdF3b%2BR3hp%2B2EnKyMG0Ots2ogguaGIPAswyrAYmc9VlWcqJ5V%2FpOBAxHzAOPPjSVyezCtMc%2Bck%3D',\n",
    "}\n",
    "\n",
    "const formatCookies = (cookies: unknown) => Object.keys(cookies).map((key) => `${key}=${cookies[key]}`).join('; ')\n"
   ]
  },
  {
   "cell_type": "code",
   "execution_count": 35,
   "id": "directed-sewing",
   "metadata": {},
   "outputs": [],
   "source": [
    "import {URLSearchParams} from 'url' "
   ]
  },
  {
   "cell_type": "code",
   "execution_count": 40,
   "id": "secret-nation",
   "metadata": {},
   "outputs": [],
   "source": [
    "let client = got.extend({\n",
    "    prefixUrl: 'https://web.archive.org/save/',  // Trailing slash or not doesn’t matter.\n",
    "    headers: {\n",
    "        // 'Content-Type': 'application/x-www-form-urlencoded',  // POST endpoints that take data want form-encoded, not JSON-encoded data.\n",
    "        'Accept': 'application/json',  // Doesn’t seem to affect the response, but nice to include.\n",
    "        'Cookie': formatCookies(cookies),\n",
    "    },\n",
    "    timeout: {request: 5000},\n",
    "    retry: {limit: 0},\n",
    "    responseType: 'json',\n",
    "    hooks: {\n",
    "        beforeRequest: [\n",
    "            (options) => {\n",
    "                console.log(\"beforeRequest method: \" + options.method)\n",
    "                if (options.method != 'GET') return\n",
    "                const timestamp = Date.now().toString()\n",
    "                if (!options.searchParams) options.searchParams = new URLSearchParams()\n",
    "                options.searchParams.set('_t', timestamp)\n",
    "            }\n",
    "        ],\n",
    "    },\n",
    "})"
   ]
  },
  {
   "cell_type": "code",
   "execution_count": 53,
   "id": "peripheral-discrimination",
   "metadata": {},
   "outputs": [
    {
     "name": "stdout",
     "output_type": "stream",
     "text": [
      "beforeRequest method: GET\n",
      "{\n",
      "  available: \u001b[33m6\u001b[39m,\n",
      "  daily_captures: \u001b[33m0\u001b[39m,\n",
      "  daily_captures_limit: \u001b[33m100000\u001b[39m,\n",
      "  processing: \u001b[33m0\u001b[39m\n",
      "}\n"
     ]
    }
   ],
   "source": [
    "const response = await client.get('status/user')\n",
    "response.body"
   ]
  },
  {
   "cell_type": "code",
   "execution_count": 55,
   "id": "automotive-helicopter",
   "metadata": {},
   "outputs": [],
   "source": [
    "const jobId = 'spn2-7be2c4054e8476dade493599099595ecc13a023f-c3faa086'"
   ]
  },
  {
   "cell_type": "code",
   "execution_count": 56,
   "id": "official-depression",
   "metadata": {},
   "outputs": [
    {
     "name": "stdout",
     "output_type": "stream",
     "text": [
      "beforeRequest method: GET\n",
      "{\n",
      "  status_ext: \u001b[32m'error:not-found'\u001b[39m,\n",
      "  duration_sec: \u001b[33m0.027\u001b[39m,\n",
      "  status: \u001b[32m'error'\u001b[39m,\n",
      "  job_id: \u001b[32m'spn2-7be2c4054e8476dade493599099595ecc13a023f-c3faa086'\u001b[39m,\n",
      "  message: \u001b[32m'The server cannot find the requested resource http://example.com/fayrie (HTTP status=404).'\u001b[39m\n",
      "}\n"
     ]
    }
   ],
   "source": [
    "const response = await client.get(`status/${jobId}`)\n",
    "response.body"
   ]
  },
  {
   "cell_type": "code",
   "execution_count": 61,
   "id": "unavailable-pennsylvania",
   "metadata": {},
   "outputs": [
    {
     "name": "stdout",
     "output_type": "stream",
     "text": [
      "beforeRequest method: POST\n",
      "{\n",
      "  job_id: \u001b[32m'ac58789b-f3ca-48d0-9ea6-1d12258695'\u001b[39m,\n",
      "  status: \u001b[32m'pending'\u001b[39m,\n",
      "  resources: []\n",
      "}\n"
     ]
    }
   ],
   "source": [
    "const response = await client.post('status', {\n",
    "    form: {\n",
    "        job_id: 'ac58789b-f3ca-48d0-9ea6-1d1225e8695'\n",
    "    }\n",
    "})\n",
    "response.body"
   ]
  },
  {
   "cell_type": "code",
   "execution_count": 57,
   "id": "painted-brown",
   "metadata": {},
   "outputs": [
    {
     "name": "stdout",
     "output_type": "stream",
     "text": [
      "beforeRequest method: POST\n",
      "[\n",
      "  {\n",
      "    job_id: \u001b[32m'ac58789b-f3ca-48d0-9ea6-1d1225e98695'\u001b[39m,\n",
      "    status: \u001b[32m'pending'\u001b[39m,\n",
      "    resources: []\n",
      "  },\n",
      "  {\n",
      "    job_id: \u001b[32m'ac58789b-f3ca-48d0-9ea6-xxxxxx'\u001b[39m,\n",
      "    status: \u001b[32m'pending'\u001b[39m,\n",
      "    resources: []\n",
      "  },\n",
      "  {\n",
      "    job_id: \u001b[32m' ac58789b-f3ca-48d0-9ea6-yyyyyyyyy'\u001b[39m,\n",
      "    status: \u001b[32m'pending'\u001b[39m,\n",
      "    resources: []\n",
      "  }\n",
      "]\n"
     ]
    }
   ],
   "source": [
    "const response = await client.post('status', {\n",
    "    form: {\n",
    "        job_ids: 'ac58789b-f3ca-48d0-9ea6-1d1225e98695,ac58789b-f3ca-48d0-9ea6-xxxxxx, ac58789b-f3ca-48d0-9ea6-yyyyyyyyy'\n",
    "    }\n",
    "})\n",
    "response.body"
   ]
  },
  {
   "cell_type": "code",
   "execution_count": 58,
   "id": "adjacent-analysis",
   "metadata": {},
   "outputs": [],
   "source": [
    "// https://web.archive.org/web/<timestamp>/<original_url>"
   ]
  },
  {
   "cell_type": "code",
   "execution_count": null,
   "id": "possible-begin",
   "metadata": {},
   "outputs": [],
   "source": []
  },
  {
   "cell_type": "code",
   "execution_count": 13,
   "id": "hidden-token",
   "metadata": {},
   "outputs": [
    {
     "name": "stdout",
     "output_type": "stream",
     "text": [
      "{\n",
      "  job_id: \u001b[32m'spn2-7be2c4054e8476dade493599099595ecc13a023f-c3faa086'\u001b[39m,\n",
      "  status: \u001b[32m'error'\u001b[39m,\n",
      "  status_ext: \u001b[32m'error:not-found'\u001b[39m,\n",
      "  duration_sec: \u001b[33m0.027\u001b[39m,\n",
      "  message: \u001b[32m'The server cannot find the requested resource http://example.com/fayrie (HTTP status=404).'\u001b[39m\n",
      "}\n"
     ]
    }
   ],
   "source": [
    "const jobStatusEndpoint = (jobId) => `https://web.archive.org/save/status/${jobId}`\n",
    "response = await instance.get(jobStatusEndpoint(jobId), { params: cacheBuster() })\n",
    "response.data"
   ]
  },
  {
   "cell_type": "code",
   "execution_count": 74,
   "id": "conservative-shape",
   "metadata": {},
   "outputs": [
    {
     "name": "stdout",
     "output_type": "stream",
     "text": [
      "{\n",
      "  url: \u001b[32m'http://example.com/fayrie'\u001b[39m,\n",
      "  job_id: \u001b[32m'spn2-7be2c4054e8476dade493599099595ecc13a023f-c3faa086'\u001b[39m\n",
      "}\n"
     ]
    }
   ],
   "source": [
    "url = 'http://example.com/fayrie'\n",
    "\n",
    "const saveEndpoint = 'https://web.archive.org/save/'\n",
    "const response = await instance.post(saveEndpoint, `url=${url}`)\n",
    "\n",
    "response.data\n",
    "\n",
    "// change capture params"
   ]
  }
 ],
 "metadata": {
  "kernelspec": {
   "display_name": "TypeScript",
   "language": "typescript",
   "name": "tslab"
  },
  "language_info": {
   "codemirror_mode": {
    "mode": "typescript",
    "name": "javascript",
    "typescript": true
   },
   "file_extension": ".ts",
   "mimetype": "text/typescript",
   "name": "typescript",
   "version": "3.7.2"
  }
 },
 "nbformat": 4,
 "nbformat_minor": 5
}
